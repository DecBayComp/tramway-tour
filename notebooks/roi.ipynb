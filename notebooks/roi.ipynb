{
 "cells": [
  {
   "cell_type": "markdown",
   "id": "a0408711",
   "metadata": {},
   "source": [
    "# Regions of interest\n",
    "\n",
    "Once the localized or tracked data are loaded as a dataframe, regions of interest can be selected at particle density peaks, for example as square areas centered at these peak locations.\n",
    "\n",
    "The `tramway.analyzer.roi.utils` module exports a simple `density_based_roi` function to do so, as an example. Its usage is better illustrated in [another notebook](https://mybinder.org/v2/gh/DecBayComp/TRamWAy/HEAD?filepath=notebooks%2FRWAnalyzer%20tour.ipynb#ROI-definition) (section *ROI definition*), part of the TRamWAy project.\n",
    "\n",
    "The time support for each space ROI can also be restricted to a time segment with relatively sustained density.\n",
    "\n",
    "TRamWAy does not encourage a specific approach, but the general rule is to select regions that contain enough data for the estimation techniques involved at the inference stage to work properly.\n",
    "\n",
    "Considering coordinates named `'x'`, `'y'` (space), `'t'` (time), regions of interest can be defined as bounding boxes, in a dataframe with one row per ROI, and columns `'x min'`, `'x max'`, `'y min'`, `'y max'`, `'t min'`, `'t max'`, etc."
   ]
  },
  {
   "cell_type": "code",
   "execution_count": 1,
   "id": "d97136a5",
   "metadata": {},
   "outputs": [],
   "source": [
    "import pandas as pd\n",
    "\n",
    "my_single_roi = pd.DataFrame({'x min': [0], 'x max': [1], 'y min': [0], 'y max': [1]})"
   ]
  },
  {
   "cell_type": "markdown",
   "id": "48e1008a",
   "metadata": {},
   "source": [
    "Such a dataframe can be passed to the `roi.from_bounding_boxes` function exported by the `tramway.analyzer` module, and the returned value be assigned to the `roi` attribute of an `SPTDataItem` object."
   ]
  },
  {
   "cell_type": "code",
   "execution_count": 2,
   "id": "7085131d",
   "metadata": {},
   "outputs": [],
   "source": [
    "from tramway.analyzer import *\n",
    "\n",
    "a = RWAnalyzer()\n",
    "\n",
    "a.spt_data = spt_data.from_ascii_files('../data/*_traj.rwa') # this actually matches a single file\n",
    "\n",
    "for file in a.spt_data:\n",
    "    file.roi = roi.from_bounding_boxes(my_single_roi)"
   ]
  },
  {
   "cell_type": "markdown",
   "id": "d8480aa7",
   "metadata": {},
   "source": [
    "Below is an example function to tighten the time support to the highest density series of contiguous time segments, for a given sliding time window. Data `df` are assumed to be cropped for a space ROI:"
   ]
  },
  {
   "cell_type": "code",
   "execution_count": 3,
   "id": "6569935a",
   "metadata": {},
   "outputs": [],
   "source": [
    "import numpy as np\n",
    "\n",
    "def time_support(df, dt, win_dur, win_shift, min_n_seg=5, absolute_min_n_transloc=20, triggering_min_n_transloc=50):\n",
    "    \"\"\"\n",
    "    Define a contiguous time support for data `df`.\n",
    "    \n",
    "    Dataframe `df` should feature a column labelled :const:`'t'`.\n",
    "    \n",
    "    The resulting time support is adjusted for a sliding time window with duration `win_dur` and shift `win_shift`.\n",
    "    Time segments are selected based on the number of associated rows in `df` (points).\n",
    "    \n",
    "    Time support selection operates in three steps:\n",
    "    \n",
    "    * the first and last time segments to exhibit `triggering_min_n_transloc` points are sought for, at frame interval (`dt`) resolution;\n",
    "    * the sliding time window is applied to the overall time interval from such a segment to the other, so as to define a series of time segments;\n",
    "      the series is split into possibly multiple \"fragments\", discarding the time segments with less than `absolute_min_n_transloc` points;\n",
    "    * the longest fragment (or contiguous series of pre-selected time segments) is selected and the corresponding start and stop times are returned.\n",
    "    \n",
    "    If no such time segments can be found, or fewer than `min_n_seg`, :const:`None` is returned instead.\n",
    "    \"\"\"\n",
    "    t = df['t'].values\n",
    "    t0, t1 = t.min(), t.max()\n",
    "    # redefine support [t0, t1] so that first and last segments satisfy triggering_min_n_transloc\n",
    "    ts = np.arange(t0, t1+.5*dt, dt)\n",
    "    cum_n = np.array([ np.sum((t_-win_dur-.5*dt<t)&(t<t_+.5*dt)) for t_ in ts ])\n",
    "    ok = np.flatnonzero(triggering_min_n_transloc <= cum_n)\n",
    "    if ok.size < 2:\n",
    "        return None\n",
    "    i, j = ok[0], ok[-1]\n",
    "    t0, t1 = ts[i]-win_dur, ts[j]\n",
    "    n_seg = np.round((t1 - t0 - win_dur) / win_shift) + 1\n",
    "    if n_seg < min_n_seg:\n",
    "        return None\n",
    "    t_tot = (n_seg - 1) * win_shift + win_dur\n",
    "    t_wasted = (t1 - t0) - t_tot\n",
    "    if 0 < t_wasted:\n",
    "        t0 += t_wasted / 2\n",
    "        t1 -= t_wasted / 2\n",
    "    # fragment the [t0, t1] support discarding the segments with less than absolute_min_n_transloc points\n",
    "    seg_start = np.arange(t0, t1-win_dur+.5*dt, win_shift)\n",
    "    seg = np.hstack((seg_start[:,None], seg_start[:,None]+win_dur))\n",
    "    transloc_count = np.array([ np.sum((t0_-.5*dt<t)&(t<t1_+.5*dt)) for t0_, t1_ in seg ])\n",
    "    ok = absolute_min_n_transloc <= transloc_count\n",
    "    fragment_start = np.flatnonzero( np.r_[True, ~ok[:-1]] & ok )\n",
    "    fragment_stop = np.flatnonzero( ok & np.r_[~ok[1:], True] )\n",
    "    assert fragment_start.size == fragment_stop.size\n",
    "    # select the longest fragment (= series of successive segments)\n",
    "    fragment_len = fragment_stop - fragment_start\n",
    "    longest_fragment = np.argmax(fragment_len)\n",
    "    if fragment_len[longest_fragment] < min_n_seg:\n",
    "        return None\n",
    "    i, j = fragment_start[longest_fragment], fragment_stop[longest_fragment]\n",
    "    t0, t1 = seg[i,0], seg[j,1]\n",
    "    return t0, t1"
   ]
  }
 ],
 "metadata": {
  "kernelspec": {
   "display_name": "tramway-tour",
   "language": "python",
   "name": "tramway-tour"
  },
  "language_info": {
   "codemirror_mode": {
    "name": "ipython",
    "version": 3
   },
   "file_extension": ".py",
   "mimetype": "text/x-python",
   "name": "python",
   "nbconvert_exporter": "python",
   "pygments_lexer": "ipython3",
   "version": "3.8.10"
  }
 },
 "nbformat": 4,
 "nbformat_minor": 5
}
