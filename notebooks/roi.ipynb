{
 "cells": [
  {
   "cell_type": "markdown",
   "id": "d8480aa7",
   "metadata": {},
   "source": [
    "# Regions of interest\n",
    "\n",
    "This section is not available yet.\n",
    "\n",
    "We refer the reader to [another notebook](https://mybinder.org/v2/gh/DecBayComp/TRamWAy/HEAD?filepath=notebooks%2FRWAnalyzer%20tour.ipynb#ROI-definition), part of the TRamWAy project."
   ]
  }
 ],
 "metadata": {
  "kernelspec": {
   "display_name": "tramway-tour",
   "language": "python",
   "name": "tramway-tour"
  },
  "language_info": {
   "codemirror_mode": {
    "name": "ipython",
    "version": 3
   },
   "file_extension": ".py",
   "mimetype": "text/x-python",
   "name": "python",
   "nbconvert_exporter": "python",
   "pygments_lexer": "ipython3",
   "version": "3.8.10"
  }
 },
 "nbformat": 4,
 "nbformat_minor": 5
}
