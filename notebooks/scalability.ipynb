{
 "cells": [
  {
   "cell_type": "markdown",
   "id": "e6900b6d",
   "metadata": {},
   "source": [
    "# Scalability\n",
    "\n",
    "While the inference stage is the most common computational bottleneck, localization microscopy data often come as multiple files of wide-field images that exhibit the fluorescent biomolecule spatially distributed as spots that can be selectively targeted as [regions of interest](roi.ipynb) for analysis.\n",
    "\n",
    "TRamWAy features a few building blocks to conveniently implement the segmentation and inference stages, and optionally move the corresponding computations onto a remote high-performace computing (HPC) cluster."
   ]
  },
  {
   "cell_type": "markdown",
   "id": "f17905db",
   "metadata": {},
   "source": [
    "## Building blocks\n",
    "\n",
    "The `RWAnalyzer` object features a `pipeline` attribute that admits pipeline *stages*.\n",
    "Several preset stages can be found in the `stages` module, such as `tessellate_and_infer` featured [elsewhere](inference.md#segmenting-and-inferring-all-at-once).\n",
    "\n",
    "These preset stages are designed to handle multiple <abbr title=\"Single Particle Tracking\">SPT</abbr> data files and regions of interest, and save to files. They perform their respective tasks so as to maximize the compatilibity between local and remote execution environments.\n",
    "Basically, they are designed to run equally on the local host or a Slurm-enabled remote submit node.\n",
    "\n",
    "This functionality is demonstrated in other notebooks ([1](https://mybinder.org/v2/gh/DecBayComp/TRamWAy/HEAD?filepath=notebooks%2FRWAnalyzer%20simple%20pipeline.ipynb) & [2](https://mybinder.org/v2/gh/DecBayComp/TRamWAy/HEAD?filepath=notebooks%2FRWAnalyzer%20multi-stage%20pipeline.ipynb)), part of the TRamWAy project."
   ]
  },
  {
   "cell_type": "markdown",
   "id": "664e8ba3",
   "metadata": {},
   "source": [
    "## Environments\n",
    "\n",
    "The `RWAnalyzer` object features an `env` attribute that can be left unset to make the `run` command locally execute the pipeline stage(s) and sequentially process the files/<abbr title=\"Regions Of Interest\">ROI</abbr>.\n",
    "\n",
    "Several preset environments can be used instead, to distribute the computations and maximize resource usage:\n",
    "\n",
    "* `LocalHost`: multiprocessing on the local host\n",
    "* `SingularitySlurm`: jobs are submitted on a remote <abbr title=\"High Performance Computing\">HPC</abbr> cluster enabled with the Slurm workload manager, with support for Singularity containers\n",
    "\n",
    "Again, this is better explained in [another notebook](https://mybinder.org/v2/gh/DecBayComp/TRamWAy/HEAD?filepath=notebooks%2FRWAnalyzer%20simple%20pipeline.ipynb)."
   ]
  },
  {
   "cell_type": "markdown",
   "id": "755bcad4",
   "metadata": {},
   "source": [
    "### Making new `SingularitySlurm` adapters\n",
    "\n",
    "As is, the `SingularitySlurm` environment does not point to the proper hostname and *scratch* location. Some operational environments are provided only for clusters that are internal to Institut Pasteur.\n",
    "\n",
    "As an example, let us rewrite the `Maestro` environment (exported by the `environments` module), that corresponds to the Maestro <abbr title=\"High Performance Computing\">HPC</abbr> cluster at Institut Pasteur:"
   ]
  },
  {
   "cell_type": "code",
   "execution_count": 1,
   "id": "65522867",
   "metadata": {},
   "outputs": [],
   "source": [
    "from tramway.analyzer.env.environments import SingularitySlurm\n",
    "import os.path\n",
    "\n",
    "class Maestro(SingularitySlurm):\n",
    "    \n",
    "    \"\"\"\n",
    "    The required hostname and scratch information must be provided as class\n",
    "    methods.\n",
    "    \"\"\"\n",
    "    \n",
    "    @classmethod\n",
    "    def hostname(cls):\n",
    "        return 'maestro.pasteur.fr'\n",
    "    \n",
    "    @classmethod\n",
    "    def scratch(cls, username):\n",
    "        \"\"\"\n",
    "        This method returns the absolute path to the specified user's scratch\n",
    "        directory.\n",
    "        \n",
    "        If no such dedicated directory exists, `scratch` can point to any\n",
    "        directory in the user's $HOME instead, for example.\n",
    "        \"\"\"\n",
    "        return os.path.join('/pasteur/sonic/scratch/users', username)\n",
    "    \n",
    "    \"\"\"\n",
    "    By default, the following command is executed on the submit host:\n",
    "    \n",
    "        singularity exec -H $HOME {default_container} python3.6 -s $@\n",
    "        \n",
    "    On some systems, additional options should be passed to Singularity.\n",
    "    This can be done with the `singularity_options` class method:\n",
    "    \"\"\"\n",
    "    \n",
    "    @classmethod\n",
    "    def singularity_options(cls):\n",
    "        return '-B /pasteur'\n",
    "    \n",
    "    \"\"\"\n",
    "    Last but not least, Singularity may not be immediately available on the\n",
    "    submit host. In the case of the Maestro server, Singularity comes as a\n",
    "    *module* to be manually loaded.\n",
    "    \n",
    "    Generally speaking, any shell command to be run prior to calling\n",
    "    Singularity can be specified in the `remote_dependencies` class method as a\n",
    "    one-liner:\n",
    "    \"\"\"\n",
    "    \n",
    "    @classmethod\n",
    "    def remote_dependencies(cls):\n",
    "        return 'module load singularity'\n",
    "        "
   ]
  },
  {
   "cell_type": "markdown",
   "id": "c08e0ef8",
   "metadata": {},
   "source": [
    "### User-defined inference functions\n",
    "\n",
    "In the case of user-defined functions passed to the `mapper` attribute as callable plugins, if these functions require extra dependencies that cannot be found in the default TRamWAy Singularity container, the `SingularitySlurm` environment (specifically) may crash unless provided with a properly augmented container.\n",
    "\n",
    "A recipe can be found at https://github.com/DecBayComp/TRamWAy/blob/master/containers/tramway-hpc.\n",
    "\n",
    "* edit the recipe to include the additional dependencies (see also https://github.com/DecBayComp/TRamWAy/blob/master/containers/available_images.rst for a list of included Python packages),\n",
    "* build a container with the `singularity build` command, *e.g.*:\n",
    "    ``singularity build --fakeroot my_container.sif my_recipe.txt``\n",
    "* copy the container file onto the remote host, preferably at your `$HOME` root directory,\n",
    "* specify which container to use in your Python script:"
   ]
  },
  {
   "cell_type": "code",
   "execution_count": 2,
   "id": "e7cb5cc7",
   "metadata": {},
   "outputs": [],
   "source": [
    "from tramway.analyzer import *\n",
    "\n",
    "a = RWAnalyzer()\n",
    "\n",
    "# ...\n",
    "\n",
    "# import libraries for my_func\n",
    "\n",
    "def my_func(*args):\n",
    "    pass\n",
    "\n",
    "a.mapper = mapper.MapperPlugin(my_func)\n",
    "\n",
    "a.env = environments.Maestro # or any other SingularitySlurm specialization\n",
    "# a.env.script = 'scalability.ipynb' # passing the current notebook's name is required from an IPython notebook\n",
    "a.env.container = 'my_container.sif' # path relative to your $HOME directory on the remote host"
   ]
  }
 ],
 "metadata": {
  "kernelspec": {
   "display_name": "tramway-mkdocs",
   "language": "python",
   "name": "tramway-mkdocs"
  },
  "language_info": {
   "codemirror_mode": {
    "name": "ipython",
    "version": 3
   },
   "file_extension": ".py",
   "mimetype": "text/x-python",
   "name": "python",
   "nbconvert_exporter": "python",
   "pygments_lexer": "ipython3",
   "version": "3.8.10"
  }
 },
 "nbformat": 4,
 "nbformat_minor": 5
}
